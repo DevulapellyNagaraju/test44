{
 "cells": [
  {
   "cell_type": "markdown",
   "id": "e2fd8a30",
   "metadata": {},
   "source": [
    "# Chatbot"
   ]
  },
  {
   "cell_type": "raw",
   "id": "e909286a",
   "metadata": {},
   "source": [
    "Now let’s start with creating an end-to-end chatbot using Python. I’ll start this task by importing the necessary Python libraries for this task:"
   ]
  },
  {
   "cell_type": "code",
   "execution_count": 1,
   "id": "d1f646be",
   "metadata": {},
   "outputs": [
    {
     "name": "stderr",
     "output_type": "stream",
     "text": [
      "[nltk_data] Downloading package punkt to\n",
      "[nltk_data]     C:\\Users\\Sanket\\AppData\\Roaming\\nltk_data...\n",
      "[nltk_data]   Package punkt is already up-to-date!\n"
     ]
    },
    {
     "data": {
      "text/plain": [
       "True"
      ]
     },
     "execution_count": 1,
     "metadata": {},
     "output_type": "execute_result"
    }
   ],
   "source": [
    "import os\n",
    "import nltk\n",
    "import ssl\n",
    "import streamlit as st\n",
    "import random\n",
    "from sklearn.feature_extraction.text import TfidfVectorizer\n",
    "from sklearn.linear_model import LogisticRegression\n",
    "\n",
    "ssl._create_default_https_context = ssl._create_unverified_context\n",
    "nltk.data.path.append(os.path.abspath(\"nltk_data\"))\n",
    "nltk.download('punkt')"
   ]
  },
  {
   "cell_type": "raw",
   "id": "2c1b4e81",
   "metadata": {},
   "source": [
    "Now let’s define some intents of the chatbot. You can add more intents to make the chatbot more helpful and more functional:"
   ]
  },
  {
   "cell_type": "code",
   "execution_count": null,
   "id": "d007afc7",
   "metadata": {},
   "outputs": [
    {
     "ename": "",
     "evalue": "",
     "output_type": "error",
     "traceback": [
      "\u001b[1;31mRunning cells with 'Python 3.12.6' requires the ipykernel package.\n",
      "\u001b[1;31mRun the following command to install 'ipykernel' into the Python environment. \n",
      "\u001b[1;31mCommand: '\"c:/Program Files/Python312/python.exe\" -m pip install ipykernel -U --user --force-reinstall'"
     ]
    }
   ],
   "source": [
    "intents = [\n",
    "    {\n",
    "        \"tag\": \"pose_suggestions\",\n",
    "        \"patterns\": [\"Suggest a yoga pose\", \"Which pose should I try\", \"Can you recommend a pose\", \"I need a yoga pose\"],\n",
    "        \"responses\": [\"Try the Downward Dog for a full-body stretch.\", \"How about the Warrior Pose to build strength?\", \"You could try the Child’s Pose for relaxation.\"]\n",
    "    },\n",
    "    {\n",
    "        \"tag\": \"beginner_poses\",\n",
    "        \"patterns\": [\"I'm a beginner\", \"Easy poses\", \"Beginner yoga\", \"Can you recommend beginner poses\"],\n",
    "        \"responses\": [\"For beginners, try Mountain Pose, Cat-Cow, and Child's Pose.\", \"Start with simple poses like Cobra Pose and Tree Pose.\", \"Beginner-friendly poses include Bridge Pose and Seated Forward Fold.\"]\n",
    "    },\n",
    "    {\n",
    "        \"tag\": \"meditation\",\n",
    "        \"patterns\": [\"Guide me through meditation\", \"Help me meditate\", \"I need meditation tips\", \"How can I meditate\"],\n",
    "        \"responses\": [\"Focus on your breath. Inhale for 4 counts, hold for 4 counts, and exhale for 4 counts.\", \"Sit comfortably, close your eyes, and let your mind relax.\", \"Begin with 5 minutes of mindfulness meditation. Focus on your breathing.\"]\n",
    "    },\n",
    "    {\n",
    "        \"tag\": \"breathing_exercises\",\n",
    "        \"patterns\": [\"Breathing exercises\", \"How to breathe better\", \"Help with breathing\"],\n",
    "        \"responses\": [\"Try alternate nostril breathing for relaxation.\", \"Practice deep belly breathing: inhale deeply through your nose, hold for a second, and exhale slowly.\", \"Box breathing is great for calming your mind: inhale for 4 counts, hold for 4 counts, exhale for 4 counts, and hold again for 4 counts.\"]\n",
    "    },\n",
    "    {\n",
    "        \"tag\": \"benefits_of_yoga\",\n",
    "        \"patterns\": [\"Why should I do yoga\", \"What are the benefits of yoga\", \"Is yoga good for me\"],\n",
    "        \"responses\": [\"Yoga improves flexibility, strength, and mental clarity.\", \"It helps reduce stress and promotes overall well-being.\", \"Yoga enhances posture, boosts energy, and fosters mindfulness.\"]\n",
    "    },\n",
    "    {\n",
    "        \"tag\": \"advanced_poses\",\n",
    "        \"patterns\": [\"I want advanced poses\", \"Hard yoga poses\", \"Can you suggest challenging poses\"],\n",
    "        \"responses\": [\"You can try Crow Pose for balance and strength.\", \"How about the Wheel Pose for a deep backbend?\", \"For a challenge, attempt the Headstand Pose.\"]\n",
    "    },\n",
    "    {\n",
    "        \"tag\": \"hatha_yoga\",\n",
    "        \"patterns\": [\"What is Hatha yoga\", \"Tell me about Hatha yoga\", \"Hatha yoga benefits\"],\n",
    "        \"responses\": [\"Hatha yoga is a gentle style focusing on basic poses and breathing.\", \"Hatha yoga helps build strength, flexibility, and mindfulness.\", \"It’s perfect for beginners looking for a slow and calming practice.\"]\n",
    "    },\n",
    "    {\n",
    "        \"tag\": \"vinyasa_yoga\",\n",
    "        \"patterns\": [\"What is Vinyasa yoga\", \"Tell me about Vinyasa yoga\", \"Vinyasa yoga benefits\"],\n",
    "        \"responses\": [\"Vinyasa yoga involves flowing sequences that connect breath with movement.\", \"It’s dynamic, helping build strength, flexibility, and cardiovascular fitness.\", \"Vinyasa yoga is great for improving focus and coordination.\"]\n",
    "    },\n",
    "    {\n",
    "        \"tag\": \"ashtanga_yoga\",\n",
    "        \"patterns\": [\"What is Ashtanga yoga\", \"Tell me about Ashtanga yoga\", \"Ashtanga yoga benefits\"],\n",
    "        \"responses\": [\"Ashtanga yoga follows a specific sequence of poses, focusing on strength and discipline.\", \"It’s intense and structured, perfect for those who like a challenging routine.\", \"Ashtanga yoga enhances strength, flexibility, and mental focus.\"]\n",
    "    },\n",
    "    {\n",
    "        \"tag\": \"yin_yoga\",\n",
    "        \"patterns\": [\"What is Yin yoga\", \"Tell me about Yin yoga\", \"Yin yoga benefits\"],\n",
    "        \"responses\": [\"Yin yoga is a slow-paced style holding poses for longer durations.\", \"It helps improve flexibility and releases deep tension in the body.\", \"Yin yoga is excellent for stress relief and mindfulness.\"]\n",
    "    },\n",
    "    {\n",
    "        \"tag\": \"power_yoga\",\n",
    "        \"patterns\": [\"What is Power yoga\", \"Tell me about Power yoga\", \"Power yoga benefits\"],\n",
    "        \"responses\": [\"Power yoga is a vigorous, fitness-based style focusing on strength and endurance.\", \"It’s a great workout that builds stamina and burns calories.\", \"Power yoga improves muscle tone and overall fitness.\"]\n",
    "    },\n",
    "    {\n",
    "        \"tag\": \"restorative_yoga\",\n",
    "        \"patterns\": [\"What is Restorative yoga\", \"Tell me about Restorative yoga\", \"Restorative yoga benefits\"],\n",
    "        \"responses\": [\"Restorative yoga focuses on relaxation, using props for support.\", \"It helps reduce stress and promotes deep rest and recovery.\", \"Restorative yoga is ideal for healing and calming the nervous system.\"]\n",
    "    },\n",
    "    {\n",
    "        \"tag\": \"kundalini_yoga\",\n",
    "        \"patterns\": [\"What is Kundalini yoga\", \"Tell me about Kundalini yoga\", \"Kundalini yoga benefits\"],\n",
    "        \"responses\": [\"Kundalini yoga combines breath, movement, and meditation to awaken energy.\", \"It focuses on spiritual growth and self-awareness.\", \"Kundalini yoga helps boost energy and enhance mental clarity.\"]\n",
    "    },\n",
    "    {\n",
    "        \"tag\": \"hot_yoga\",\n",
    "        \"patterns\": [\"What is Hot yoga\", \"Tell me about Hot yoga\", \"Hot yoga benefits\"],\n",
    "        \"responses\": [\"Hot yoga involves practicing in a heated room, increasing flexibility and detoxification.\", \"It’s a great workout for burning calories and improving circulation.\", \"Hot yoga enhances endurance and releases tension.\"]\n",
    "    },\n",
    "    {\n",
    "        \"tag\": \"iyengar_yoga\",\n",
    "        \"patterns\": [\"What is Iyengar yoga\", \"Tell me about Iyengar yoga\", \"Iyengar yoga benefits\"],\n",
    "        \"responses\": [\"Iyengar yoga emphasizes precision and alignment in poses.\", \"It uses props like blocks and straps to help achieve proper posture.\", \"Iyengar yoga improves strength, posture, and body awareness.\"]\n",
    "    }\n",
    "]\n"
   ]
  },
  {
   "cell_type": "raw",
   "id": "012bf411",
   "metadata": {},
   "source": [
    "Now let’s prepare the intents and train a Machine Learning model for the chatbot:"
   ]
  },
  {
   "cell_type": "code",
   "execution_count": 3,
   "id": "96d66800",
   "metadata": {},
   "outputs": [
    {
     "data": {
      "text/html": [
       "<style>#sk-container-id-1 {color: black;background-color: white;}#sk-container-id-1 pre{padding: 0;}#sk-container-id-1 div.sk-toggleable {background-color: white;}#sk-container-id-1 label.sk-toggleable__label {cursor: pointer;display: block;width: 100%;margin-bottom: 0;padding: 0.3em;box-sizing: border-box;text-align: center;}#sk-container-id-1 label.sk-toggleable__label-arrow:before {content: \"▸\";float: left;margin-right: 0.25em;color: #696969;}#sk-container-id-1 label.sk-toggleable__label-arrow:hover:before {color: black;}#sk-container-id-1 div.sk-estimator:hover label.sk-toggleable__label-arrow:before {color: black;}#sk-container-id-1 div.sk-toggleable__content {max-height: 0;max-width: 0;overflow: hidden;text-align: left;background-color: #f0f8ff;}#sk-container-id-1 div.sk-toggleable__content pre {margin: 0.2em;color: black;border-radius: 0.25em;background-color: #f0f8ff;}#sk-container-id-1 input.sk-toggleable__control:checked~div.sk-toggleable__content {max-height: 200px;max-width: 100%;overflow: auto;}#sk-container-id-1 input.sk-toggleable__control:checked~label.sk-toggleable__label-arrow:before {content: \"▾\";}#sk-container-id-1 div.sk-estimator input.sk-toggleable__control:checked~label.sk-toggleable__label {background-color: #d4ebff;}#sk-container-id-1 div.sk-label input.sk-toggleable__control:checked~label.sk-toggleable__label {background-color: #d4ebff;}#sk-container-id-1 input.sk-hidden--visually {border: 0;clip: rect(1px 1px 1px 1px);clip: rect(1px, 1px, 1px, 1px);height: 1px;margin: -1px;overflow: hidden;padding: 0;position: absolute;width: 1px;}#sk-container-id-1 div.sk-estimator {font-family: monospace;background-color: #f0f8ff;border: 1px dotted black;border-radius: 0.25em;box-sizing: border-box;margin-bottom: 0.5em;}#sk-container-id-1 div.sk-estimator:hover {background-color: #d4ebff;}#sk-container-id-1 div.sk-parallel-item::after {content: \"\";width: 100%;border-bottom: 1px solid gray;flex-grow: 1;}#sk-container-id-1 div.sk-label:hover label.sk-toggleable__label {background-color: #d4ebff;}#sk-container-id-1 div.sk-serial::before {content: \"\";position: absolute;border-left: 1px solid gray;box-sizing: border-box;top: 0;bottom: 0;left: 50%;z-index: 0;}#sk-container-id-1 div.sk-serial {display: flex;flex-direction: column;align-items: center;background-color: white;padding-right: 0.2em;padding-left: 0.2em;position: relative;}#sk-container-id-1 div.sk-item {position: relative;z-index: 1;}#sk-container-id-1 div.sk-parallel {display: flex;align-items: stretch;justify-content: center;background-color: white;position: relative;}#sk-container-id-1 div.sk-item::before, #sk-container-id-1 div.sk-parallel-item::before {content: \"\";position: absolute;border-left: 1px solid gray;box-sizing: border-box;top: 0;bottom: 0;left: 50%;z-index: -1;}#sk-container-id-1 div.sk-parallel-item {display: flex;flex-direction: column;z-index: 1;position: relative;background-color: white;}#sk-container-id-1 div.sk-parallel-item:first-child::after {align-self: flex-end;width: 50%;}#sk-container-id-1 div.sk-parallel-item:last-child::after {align-self: flex-start;width: 50%;}#sk-container-id-1 div.sk-parallel-item:only-child::after {width: 0;}#sk-container-id-1 div.sk-dashed-wrapped {border: 1px dashed gray;margin: 0 0.4em 0.5em 0.4em;box-sizing: border-box;padding-bottom: 0.4em;background-color: white;}#sk-container-id-1 div.sk-label label {font-family: monospace;font-weight: bold;display: inline-block;line-height: 1.2em;}#sk-container-id-1 div.sk-label-container {text-align: center;}#sk-container-id-1 div.sk-container {/* jupyter's `normalize.less` sets `[hidden] { display: none; }` but bootstrap.min.css set `[hidden] { display: none !important; }` so we also need the `!important` here to be able to override the default hidden behavior on the sphinx rendered scikit-learn.org. See: https://github.com/scikit-learn/scikit-learn/issues/21755 */display: inline-block !important;position: relative;}#sk-container-id-1 div.sk-text-repr-fallback {display: none;}</style><div id=\"sk-container-id-1\" class=\"sk-top-container\"><div class=\"sk-text-repr-fallback\"><pre>LogisticRegression(max_iter=10000, random_state=0)</pre><b>In a Jupyter environment, please rerun this cell to show the HTML representation or trust the notebook. <br />On GitHub, the HTML representation is unable to render, please try loading this page with nbviewer.org.</b></div><div class=\"sk-container\" hidden><div class=\"sk-item\"><div class=\"sk-estimator sk-toggleable\"><input class=\"sk-toggleable__control sk-hidden--visually\" id=\"sk-estimator-id-1\" type=\"checkbox\" checked><label for=\"sk-estimator-id-1\" class=\"sk-toggleable__label sk-toggleable__label-arrow\">LogisticRegression</label><div class=\"sk-toggleable__content\"><pre>LogisticRegression(max_iter=10000, random_state=0)</pre></div></div></div></div></div>"
      ],
      "text/plain": [
       "LogisticRegression(max_iter=10000, random_state=0)"
      ]
     },
     "execution_count": 3,
     "metadata": {},
     "output_type": "execute_result"
    }
   ],
   "source": [
    "# Create the vectorizer and classifier\n",
    "vectorizer = TfidfVectorizer()\n",
    "clf = LogisticRegression(random_state=0, max_iter=10000)\n",
    "\n",
    "# Preprocess the data\n",
    "tags = []\n",
    "patterns = []\n",
    "for intent in intents:\n",
    "    for pattern in intent['patterns']:\n",
    "        tags.append(intent['tag'])\n",
    "        patterns.append(pattern)\n",
    "\n",
    "# training the model\n",
    "x = vectorizer.fit_transform(patterns)\n",
    "y = tags\n",
    "clf.fit(x, y)"
   ]
  },
  {
   "cell_type": "raw",
   "id": "0639b5f7",
   "metadata": {},
   "source": [
    "Now let’s write a Python function to chat with the chatbot:"
   ]
  },
  {
   "cell_type": "code",
   "execution_count": 4,
   "id": "563685b4",
   "metadata": {},
   "outputs": [],
   "source": [
    "def chatbot(input_text):\n",
    "    input_text = vectorizer.transform([input_text])\n",
    "    tag = clf.predict(input_text)[0]\n",
    "    for intent in intents:\n",
    "        if intent['tag'] == tag:\n",
    "            response = random.choice(intent['responses'])\n",
    "            return response"
   ]
  },
  {
   "cell_type": "raw",
   "id": "471bc8e5",
   "metadata": {},
   "source": [
    "Till now, we have created the chatbot. After running the code, you can interact with the chatbot in the terminal itself. To turn this chatbot into an end-to-end chatbot, we need to deploy it to interact with the chatbot using a user interface. To deploy the chatbot, I will use the streamlit library in Python, which provides amazing features to create a user interface for a Machine Learning application in just a few lines of code."
   ]
  },
  {
   "cell_type": "raw",
   "id": "196a1376",
   "metadata": {},
   "source": [
    "So, here’s how we can deploy the chatbot using Python:"
   ]
  },
  {
   "cell_type": "code",
   "execution_count": 5,
   "id": "1b0080bf",
   "metadata": {},
   "outputs": [
    {
     "name": "stderr",
     "output_type": "stream",
     "text": [
      "2023-03-31 17:08:14.216 \n",
      "  \u001b[33m\u001b[1mWarning:\u001b[0m to view this Streamlit app on a browser, run it with the following\n",
      "  command:\n",
      "\n",
      "    streamlit run C:\\Users\\Sanket\\anaconda3\\envs\\nlp\\lib\\site-packages\\ipykernel_launcher.py [ARGUMENTS]\n"
     ]
    }
   ],
   "source": [
    "counter = 0\n",
    "\n",
    "def main():\n",
    "    global counter\n",
    "    st.title(\"Chatbot\")\n",
    "    st.write(\"Welcome to the chatbot. Please type a message and press Enter to start the conversation.\")\n",
    "\n",
    "    counter += 1\n",
    "    user_input = st.text_input(\"You:\", key=f\"user_input_{counter}\")\n",
    "\n",
    "    if user_input:\n",
    "        response = chatbot(user_input)\n",
    "        st.text_area(\"Chatbot:\", value=response, height=100, max_chars=None, key=f\"chatbot_response_{counter}\")\n",
    "\n",
    "        if response.lower() in ['goodbye', 'bye']:\n",
    "            st.write(\"Thank you for chatting with me. Have a great day!\")\n",
    "            st.stop()\n",
    "\n",
    "if __name__ == '__main__':\n",
    "    main()"
   ]
  },
  {
   "cell_type": "code",
   "execution_count": null,
   "id": "7124a3ce",
   "metadata": {},
   "outputs": [],
   "source": []
  }
 ],
 "metadata": {
  "kernelspec": {
   "display_name": "Python 3",
   "language": "python",
   "name": "python3"
  },
  "language_info": {
   "codemirror_mode": {
    "name": "ipython",
    "version": 3
   },
   "file_extension": ".py",
   "mimetype": "text/x-python",
   "name": "python",
   "nbconvert_exporter": "python",
   "pygments_lexer": "ipython3",
   "version": "3.12.6"
  }
 },
 "nbformat": 4,
 "nbformat_minor": 5
}
